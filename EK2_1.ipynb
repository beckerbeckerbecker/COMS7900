{
  "nbformat": 4,
  "nbformat_minor": 0,
  "metadata": {
    "colab": {
      "provenance": [],
      "authorship_tag": "ABX9TyPvMgP+kVFrSIQ9uPNDjg1r",
      "include_colab_link": true
    },
    "kernelspec": {
      "name": "python3",
      "display_name": "Python 3"
    },
    "language_info": {
      "name": "python"
    },
    "gpuClass": "standard"
  },
  "cells": [
    {
      "cell_type": "markdown",
      "metadata": {
        "id": "view-in-github",
        "colab_type": "text"
      },
      "source": [
        "<a href=\"https://colab.research.google.com/github/beckerbeckerbecker/CapstoneCapstoneCapstone/blob/main/EK2_1.ipynb\" target=\"_parent\"><img src=\"https://colab.research.google.com/assets/colab-badge.svg\" alt=\"Open In Colab\"/></a>"
      ]
    },
    {
      "cell_type": "markdown",
      "source": [
        "# 2.1 ODE Solver\n",
        "\n",
        "The system of coupled differential equations provided represents a simple System Dynamics model for the PF/PSB cycles in enchanted kingdoms. To implement this model in Python, you can use numerical integration methods to solve the differential equations over time. The following steps can help you create a Python model based on these equations:\n",
        "\n",
        "1. Import the necessary libraries, such as NumPy and Matplotlib, for numerical computation and plotting.\n",
        "\n",
        "2. Define the initial conditions for the populations of princes, princesses, frogs, and sleeping beauties.\n",
        "\n",
        "3. Define the values for the constants $c_{PF}$, $c_{PSB}$, $k_{FP}$, and $k_{SBP}$, as well as the value for the number of witches.\n",
        "\n",
        "4. Define the functions that represent the two differential equations, i.e., dN_princes_dt and dN_princesses_dt, using the provided equations.\n",
        "\n",
        "5. Define the time range and time step for numerical integration using NumPy's linspace or arange function.\n",
        "\n",
        "6. Use an integration method, such as Euler's method or the Runge-Kutta method, to solve the differential equations numerically over time.\n",
        "\n",
        "7. Plot the results for the populations of princes and princesses over time using Matplotlib.\n",
        "\n",
        "Here's some sample code that demonstrates how to create a simple implementation of this model in Python:"
      ],
      "metadata": {
        "id": "ul8jIFQKM1eq"
      }
    },
    {
      "cell_type": "code",
      "source": [
        "import numpy as np\n",
        "import matplotlib.pyplot as plt\n",
        "\n",
        "# Define initial conditions\n",
        "N_princes = 7 #100\n",
        "N_princesses = 6 #100\n",
        "N_frogs = 5 #0\n",
        "N_sleeping_beauties = 4 #0\n",
        "\n",
        "# Define values for constants and parameters\n",
        "c = 0.1\n",
        "k = 0.05 #0.01\n",
        "N_witches = 3 #1000\n",
        "\n",
        "# Define functions for differential equations\n",
        "def dN_princes_dt(N_princes, N_princesses, N_witches):\n",
        "    return -c*N_witches*N_princes + k*N_frogs*N_princesses\n",
        "\n",
        "def dN_princesses_dt(N_princes, N_princesses, N_witches):\n",
        "    return -c*N_witches*N_princesses + k*N_sleeping_beauties*N_princesses\n",
        "\n",
        "# Define time range and time step\n",
        "t = np.linspace(0, 100, 1000)\n",
        "dt = t[1] - t[0]\n",
        "\n",
        "# Solve differential equations numerically using Euler's method\n",
        "for i in range(len(t)-1):\n",
        "    N_princes += dN_princes_dt(N_princes, N_princesses, N_witches) * dt\n",
        "    N_princesses += dN_princesses_dt(N_princes, N_princesses, N_witches) * dt\n",
        "\n",
        "# Plot results\n",
        "plt.plot(t, N_princes, label='Princes')\n",
        "plt.plot(t, N_princesses, label='Princesses')\n",
        "plt.xlabel('Time')\n",
        "plt.ylabel('Population')\n",
        "plt.legend()\n",
        "plt.show()\n"
      ],
      "metadata": {
        "colab": {
          "base_uri": "https://localhost:8080/",
          "height": 632
        },
        "id": "7sbMo-Tmoy8F",
        "outputId": "f5c13bed-75b8-4618-c4ec-ba51794a8405"
      },
      "execution_count": 7,
      "outputs": [
        {
          "output_type": "error",
          "ename": "ValueError",
          "evalue": "ignored",
          "traceback": [
            "\u001b[0;31m---------------------------------------------------------------------------\u001b[0m",
            "\u001b[0;31mValueError\u001b[0m                                Traceback (most recent call last)",
            "\u001b[0;32m<ipython-input-7-008c6078b4ba>\u001b[0m in \u001b[0;36m<module>\u001b[0;34m\u001b[0m\n\u001b[1;32m     30\u001b[0m \u001b[0;34m\u001b[0m\u001b[0m\n\u001b[1;32m     31\u001b[0m \u001b[0;31m# Plot results\u001b[0m\u001b[0;34m\u001b[0m\u001b[0;34m\u001b[0m\u001b[0;34m\u001b[0m\u001b[0m\n\u001b[0;32m---> 32\u001b[0;31m \u001b[0mplt\u001b[0m\u001b[0;34m.\u001b[0m\u001b[0mplot\u001b[0m\u001b[0;34m(\u001b[0m\u001b[0mt\u001b[0m\u001b[0;34m,\u001b[0m \u001b[0mN_princes\u001b[0m\u001b[0;34m,\u001b[0m \u001b[0mlabel\u001b[0m\u001b[0;34m=\u001b[0m\u001b[0;34m'Princes'\u001b[0m\u001b[0;34m)\u001b[0m\u001b[0;34m\u001b[0m\u001b[0;34m\u001b[0m\u001b[0m\n\u001b[0m\u001b[1;32m     33\u001b[0m \u001b[0mplt\u001b[0m\u001b[0;34m.\u001b[0m\u001b[0mplot\u001b[0m\u001b[0;34m(\u001b[0m\u001b[0mt\u001b[0m\u001b[0;34m,\u001b[0m \u001b[0mN_princesses\u001b[0m\u001b[0;34m,\u001b[0m \u001b[0mlabel\u001b[0m\u001b[0;34m=\u001b[0m\u001b[0;34m'Princesses'\u001b[0m\u001b[0;34m)\u001b[0m\u001b[0;34m\u001b[0m\u001b[0;34m\u001b[0m\u001b[0m\n\u001b[1;32m     34\u001b[0m \u001b[0mplt\u001b[0m\u001b[0;34m.\u001b[0m\u001b[0mxlabel\u001b[0m\u001b[0;34m(\u001b[0m\u001b[0;34m'Time'\u001b[0m\u001b[0;34m)\u001b[0m\u001b[0;34m\u001b[0m\u001b[0;34m\u001b[0m\u001b[0m\n",
            "\u001b[0;32m/usr/local/lib/python3.8/dist-packages/matplotlib/pyplot.py\u001b[0m in \u001b[0;36mplot\u001b[0;34m(scalex, scaley, data, *args, **kwargs)\u001b[0m\n\u001b[1;32m   2759\u001b[0m \u001b[0;34m@\u001b[0m\u001b[0mdocstring\u001b[0m\u001b[0;34m.\u001b[0m\u001b[0mcopy\u001b[0m\u001b[0;34m(\u001b[0m\u001b[0mAxes\u001b[0m\u001b[0;34m.\u001b[0m\u001b[0mplot\u001b[0m\u001b[0;34m)\u001b[0m\u001b[0;34m\u001b[0m\u001b[0;34m\u001b[0m\u001b[0m\n\u001b[1;32m   2760\u001b[0m \u001b[0;32mdef\u001b[0m \u001b[0mplot\u001b[0m\u001b[0;34m(\u001b[0m\u001b[0;34m*\u001b[0m\u001b[0margs\u001b[0m\u001b[0;34m,\u001b[0m \u001b[0mscalex\u001b[0m\u001b[0;34m=\u001b[0m\u001b[0;32mTrue\u001b[0m\u001b[0;34m,\u001b[0m \u001b[0mscaley\u001b[0m\u001b[0;34m=\u001b[0m\u001b[0;32mTrue\u001b[0m\u001b[0;34m,\u001b[0m \u001b[0mdata\u001b[0m\u001b[0;34m=\u001b[0m\u001b[0;32mNone\u001b[0m\u001b[0;34m,\u001b[0m \u001b[0;34m**\u001b[0m\u001b[0mkwargs\u001b[0m\u001b[0;34m)\u001b[0m\u001b[0;34m:\u001b[0m\u001b[0;34m\u001b[0m\u001b[0;34m\u001b[0m\u001b[0m\n\u001b[0;32m-> 2761\u001b[0;31m     return gca().plot(\n\u001b[0m\u001b[1;32m   2762\u001b[0m         *args, scalex=scalex, scaley=scaley, **({\"data\": data} if data\n\u001b[1;32m   2763\u001b[0m         is not None else {}), **kwargs)\n",
            "\u001b[0;32m/usr/local/lib/python3.8/dist-packages/matplotlib/axes/_axes.py\u001b[0m in \u001b[0;36mplot\u001b[0;34m(self, scalex, scaley, data, *args, **kwargs)\u001b[0m\n\u001b[1;32m   1645\u001b[0m         \"\"\"\n\u001b[1;32m   1646\u001b[0m         \u001b[0mkwargs\u001b[0m \u001b[0;34m=\u001b[0m \u001b[0mcbook\u001b[0m\u001b[0;34m.\u001b[0m\u001b[0mnormalize_kwargs\u001b[0m\u001b[0;34m(\u001b[0m\u001b[0mkwargs\u001b[0m\u001b[0;34m,\u001b[0m \u001b[0mmlines\u001b[0m\u001b[0;34m.\u001b[0m\u001b[0mLine2D\u001b[0m\u001b[0;34m)\u001b[0m\u001b[0;34m\u001b[0m\u001b[0;34m\u001b[0m\u001b[0m\n\u001b[0;32m-> 1647\u001b[0;31m         \u001b[0mlines\u001b[0m \u001b[0;34m=\u001b[0m \u001b[0;34m[\u001b[0m\u001b[0;34m*\u001b[0m\u001b[0mself\u001b[0m\u001b[0;34m.\u001b[0m\u001b[0m_get_lines\u001b[0m\u001b[0;34m(\u001b[0m\u001b[0;34m*\u001b[0m\u001b[0margs\u001b[0m\u001b[0;34m,\u001b[0m \u001b[0mdata\u001b[0m\u001b[0;34m=\u001b[0m\u001b[0mdata\u001b[0m\u001b[0;34m,\u001b[0m \u001b[0;34m**\u001b[0m\u001b[0mkwargs\u001b[0m\u001b[0;34m)\u001b[0m\u001b[0;34m]\u001b[0m\u001b[0;34m\u001b[0m\u001b[0;34m\u001b[0m\u001b[0m\n\u001b[0m\u001b[1;32m   1648\u001b[0m         \u001b[0;32mfor\u001b[0m \u001b[0mline\u001b[0m \u001b[0;32min\u001b[0m \u001b[0mlines\u001b[0m\u001b[0;34m:\u001b[0m\u001b[0;34m\u001b[0m\u001b[0;34m\u001b[0m\u001b[0m\n\u001b[1;32m   1649\u001b[0m             \u001b[0mself\u001b[0m\u001b[0;34m.\u001b[0m\u001b[0madd_line\u001b[0m\u001b[0;34m(\u001b[0m\u001b[0mline\u001b[0m\u001b[0;34m)\u001b[0m\u001b[0;34m\u001b[0m\u001b[0;34m\u001b[0m\u001b[0m\n",
            "\u001b[0;32m/usr/local/lib/python3.8/dist-packages/matplotlib/axes/_base.py\u001b[0m in \u001b[0;36m__call__\u001b[0;34m(self, *args, **kwargs)\u001b[0m\n\u001b[1;32m    214\u001b[0m                 \u001b[0mthis\u001b[0m \u001b[0;34m+=\u001b[0m \u001b[0margs\u001b[0m\u001b[0;34m[\u001b[0m\u001b[0;36m0\u001b[0m\u001b[0;34m]\u001b[0m\u001b[0;34m,\u001b[0m\u001b[0;34m\u001b[0m\u001b[0;34m\u001b[0m\u001b[0m\n\u001b[1;32m    215\u001b[0m                 \u001b[0margs\u001b[0m \u001b[0;34m=\u001b[0m \u001b[0margs\u001b[0m\u001b[0;34m[\u001b[0m\u001b[0;36m1\u001b[0m\u001b[0;34m:\u001b[0m\u001b[0;34m]\u001b[0m\u001b[0;34m\u001b[0m\u001b[0;34m\u001b[0m\u001b[0m\n\u001b[0;32m--> 216\u001b[0;31m             \u001b[0;32myield\u001b[0m \u001b[0;32mfrom\u001b[0m \u001b[0mself\u001b[0m\u001b[0;34m.\u001b[0m\u001b[0m_plot_args\u001b[0m\u001b[0;34m(\u001b[0m\u001b[0mthis\u001b[0m\u001b[0;34m,\u001b[0m \u001b[0mkwargs\u001b[0m\u001b[0;34m)\u001b[0m\u001b[0;34m\u001b[0m\u001b[0;34m\u001b[0m\u001b[0m\n\u001b[0m\u001b[1;32m    217\u001b[0m \u001b[0;34m\u001b[0m\u001b[0m\n\u001b[1;32m    218\u001b[0m     \u001b[0;32mdef\u001b[0m \u001b[0mget_next_color\u001b[0m\u001b[0;34m(\u001b[0m\u001b[0mself\u001b[0m\u001b[0;34m)\u001b[0m\u001b[0;34m:\u001b[0m\u001b[0;34m\u001b[0m\u001b[0;34m\u001b[0m\u001b[0m\n",
            "\u001b[0;32m/usr/local/lib/python3.8/dist-packages/matplotlib/axes/_base.py\u001b[0m in \u001b[0;36m_plot_args\u001b[0;34m(self, tup, kwargs)\u001b[0m\n\u001b[1;32m    340\u001b[0m \u001b[0;34m\u001b[0m\u001b[0m\n\u001b[1;32m    341\u001b[0m         \u001b[0;32mif\u001b[0m \u001b[0mx\u001b[0m\u001b[0;34m.\u001b[0m\u001b[0mshape\u001b[0m\u001b[0;34m[\u001b[0m\u001b[0;36m0\u001b[0m\u001b[0;34m]\u001b[0m \u001b[0;34m!=\u001b[0m \u001b[0my\u001b[0m\u001b[0;34m.\u001b[0m\u001b[0mshape\u001b[0m\u001b[0;34m[\u001b[0m\u001b[0;36m0\u001b[0m\u001b[0;34m]\u001b[0m\u001b[0;34m:\u001b[0m\u001b[0;34m\u001b[0m\u001b[0;34m\u001b[0m\u001b[0m\n\u001b[0;32m--> 342\u001b[0;31m             raise ValueError(f\"x and y must have same first dimension, but \"\n\u001b[0m\u001b[1;32m    343\u001b[0m                              f\"have shapes {x.shape} and {y.shape}\")\n\u001b[1;32m    344\u001b[0m         \u001b[0;32mif\u001b[0m \u001b[0mx\u001b[0m\u001b[0;34m.\u001b[0m\u001b[0mndim\u001b[0m \u001b[0;34m>\u001b[0m \u001b[0;36m2\u001b[0m \u001b[0;32mor\u001b[0m \u001b[0my\u001b[0m\u001b[0;34m.\u001b[0m\u001b[0mndim\u001b[0m \u001b[0;34m>\u001b[0m \u001b[0;36m2\u001b[0m\u001b[0;34m:\u001b[0m\u001b[0;34m\u001b[0m\u001b[0;34m\u001b[0m\u001b[0m\n",
            "\u001b[0;31mValueError\u001b[0m: x and y must have same first dimension, but have shapes (1000,) and (1,)"
          ]
        },
        {
          "output_type": "display_data",
          "data": {
            "text/plain": [
              "<Figure size 432x288 with 1 Axes>"
            ],
            "image/png": "[encoded data removed]"
          },
          "metadata": {
            "needs_background": "light"
          }
        }
      ]
    },
    {
      "cell_type": "markdown",
      "source": [
        "Note that this implementation uses Euler's method for numerical integration, which is a simple but less accurate method. You can use more advanced methods, such as the Runge-Kutta method, for better accuracy."
      ],
      "metadata": {
        "id": "znN-viiJgbRo"
      }
    },
    {
      "cell_type": "markdown",
      "source": [
        "Using odeint in python, create a dynamical simulation of the PF/PSB system.  It should return a graph of the population of princes, princesses, frogs, and sleeping beauties over time.  Explore the parameter space to find typical behaviors of such systems.\n",
        "\n",
        "Here is an implementation of the PF/PSB system using odeint from the scipy library in Python. This implementation is more accurate than using Euler's method and is better suited for simulating the system over long periods of time."
      ],
      "metadata": {
        "id": "d55-tOE-gkv-"
      }
    },
    {
      "cell_type": "code",
      "execution_count": null,
      "metadata": {
        "id": "NHeTneIjJIdr"
      },
      "outputs": [],
      "source": [
        "import numpy as np\n",
        "import matplotlib.pyplot as plt\n",
        "from scipy.integrate import odeint\n",
        "\n",
        "def pfpbs_model(state, t, c_pf, c_psb, k_fp, k_sbp, N_witches):\n",
        "    N_princes, N_princesses, N_frogs, N_sleeping_beauties = state\n",
        "    dN_princes_dt = -c_pf * N_witches * N_princes + k_fp * N_frogs * N_princesses\n",
        "    dN_princesses_dt = -c_psb * N_witches * N_princesses + k_sbp * N_sleeping_beauties * N_princesses\n",
        "    dN_frogs_dt = c_pf * N_witches * N_princes - k_fp * N_frogs * N_princesses\n",
        "    dN_sleeping_beauties_dt = c_psb * N_witches * N_princesses - k_sbp * N_sleeping_beauties * N_princesses\n",
        "    return [dN_princes_dt, dN_princesses_dt, dN_frogs_dt, dN_sleeping_beauties_dt]\n",
        "\n",
        "# Initial conditions\n",
        "N_princes_0 = 10\n",
        "N_princesses_0 = 10\n",
        "N_frogs_0 = 5\n",
        "N_sleeping_beauties_0 = 5\n",
        "state_0 = [N_princes_0, N_princesses_0, N_frogs_0, N_sleeping_beauties_0]\n",
        "\n",
        "# Parameters\n",
        "c_pf = 0.1\n",
        "k_fp = 0.1\n",
        "k_sbp = 0.01\n",
        "N_witches = 5 #1000\n",
        "\n",
        "# Time points\n",
        "t = np.linspace(0, 100, 1000)\n",
        "\n",
        "# Solve ODE system\n",
        "state = odeint(pfpbs_model, state_0, t, args=(c_pf, c_psb, k_fp, k_sbp, N_witches))\n",
        "\n",
        "# Plot results\n",
        "plt.plot(t, state[:,0], label='Princes')\n",
        "plt.plot(t, state[:,1], label='Princesses')\n",
        "plt.plot(t, state[:,2], label='Frogs')\n",
        "plt.plot(t, state[:,3], label='Sleeping Beauties')\n",
        "plt.xlabel('Time')\n",
        "plt.ylabel('Population')\n",
        "plt.legend()\n",
        "plt.show()"
      ]
    },
    {
      "cell_type": "markdown",
      "source": [
        "In this implementation, odeint solves the system of differential equations for the four populations over time, given the initial conditions and parameters. The pfpbs_model function takes the current state of the system (state), the current time (t), and the parameters as arguments, and returns the derivatives of the four populations.\n",
        "\n",
        "To explore the parameter space and find typical behaviors of such systems, you can vary the parameter values and observe the resulting population dynamics. For example, you can try varying the values of $c_{pf}$, $c_{psb}$, $k_{fp}$, $k_{sbp}$, and ${N_{witches}}$. Some interesting observations you can make are:\n",
        "\n",
        "When $c_{pf}$ is higher than $c_{psb}$, the population of princes tends to decrease faster than that of princesses, and vice versa. This is because the number of princes and princesses cursed by the witches is proportional to the product of the number of witches and the number of each population, so the population with the higher value."
      ],
      "metadata": {
        "id": "a88Ns33lg3Gm"
      }
    },
    {
      "cell_type": "markdown",
      "source": [
        "# 2.2 Agent Based Modeling\n",
        "\n",
        "The second approach for modeling the PF/PSB cycle is agent modeling.  The idea of this type of simulation is to set up a two dimenstional grid representing the geography of the Enchanted Kingdom.  Within this grid, there are three types of Agents that each follow a set of rules.\n",
        "\n",
        "#### Witches\n",
        "\n",
        "* Witches can move freely across the grid in a random direction one square per timestep\n",
        "* When a witch is next to a prince or a princess, the prince or princess will change form with a probability of $C_f$, the cursing factor.\n",
        "\n",
        "#### Princes/Frogs\n",
        "\n",
        "* Princes and frogs can move freely across the grid in a random direction one square per timestep\n",
        "* Princes turn into frogs as described under the witches agent.\n",
        "* Frogs can turn back into princes as described under the Princesses/Sleeping Beauty agent\n",
        "* When a prince is next to a sleeping beauty, it can transform the sleeping beauty back into a princess with a probability of $K_f$, the kissing factor.\n",
        "* Frogs cannot transform a sleeping beauty into a princess, because that would be cheating.\n",
        "\n",
        "#### Princesses/Sleeping Beauties\n",
        "\n",
        "* Princesses can move freely across the grid in a random direction one square per timestep.\n",
        "* Sleeping beauties don't move\n",
        "* Princesses transform into sleeping beauties as described under the witch agent.\n",
        "* When a princess is next to a frog, it can transform the frog back into a prince with a probability of $K_f$, the kissing factor.\n",
        "\n",
        "The agent-based modeling is likely to be more realistic than the dynamical systems approach since the number of agents is represented by cardinal numbers.  The population of princes and princesses can crash to zero, thus preventing any future transformations."
      ],
      "metadata": {
        "id": "aHkII_AvhdjG"
      }
    },
    {
      "cell_type": "code",
      "source": [
        "pip install mesa\n"
      ],
      "metadata": {
        "id": "ZV6vidCNrT2_"
      },
      "execution_count": null,
      "outputs": []
    },
    {
      "cell_type": "markdown",
      "source": [
        "Agent-based modeling is a useful tool for simulating complex systems with many interacting entities, such as the PF/PSB cycle in the Enchanted Kingdom. It allows for the simulation of the behavior of individual agents, and the emergent properties that arise from their interactions.\n",
        "\n",
        "One advantage of agent-based modeling over dynamical systems modeling is that it can capture stochasticity and variability that arise from the individual behavior of the agents. In this case, the movements and transformations of the witches, princes/frogs, and princesses/sleeping beauties are subject to probability factors, which can result in different outcomes even under the same initial conditions. This reflects the real-world unpredictability of human behavior and environmental factors that can influence it.\n",
        "\n",
        "However, as with any modeling approach, agent-based modeling has its limitations. The accuracy of the model depends on the assumptions and rules set for the behavior of the agents, which may not fully capture the complexity of the real-world system. In addition, the simulation is limited by the computational power and resources available, which may constrain the number of agents or the level of detail that can be included.\n",
        "\n",
        "Overall, agent-based modeling can provide valuable insights into the behavior of complex systems, such as the PF/PSB cycle in the Enchanted Kingdom. However, it should be used in conjunction with other modeling approaches and empirical data to ensure that the model is as accurate and representative as possible."
      ],
      "metadata": {
        "id": "cnZVMrKQhpcY"
      }
    },
    {
      "cell_type": "markdown",
      "source": [
        "Here's an example of how to implement an agent-based model of the PF/PSB cycle in Python using the Mesa library:"
      ],
      "metadata": {
        "id": "ScUQ7nlvhuec"
      }
    },
    {
      "cell_type": "code",
      "source": [
        "from mesa import Model\n",
        "from mesa.space import SingleGrid\n",
        "from mesa.time import RandomActivation\n",
        "from mesa.datacollection import DataCollector\n",
        "from mesa.visualization.modules import CanvasGrid\n",
        "from mesa.visualization.ModularVisualization import ModularServer\n",
        "import random\n",
        "\n",
        "class Witch:\n",
        "    def __init__(self, pos, model):\n",
        "        self.pos = pos\n",
        "        self.model = model\n",
        "    \n",
        "    def move(self):\n",
        "        possible_steps = self.model.grid.get_neighborhood(self.pos, moore=True, include_center=False)\n",
        "        new_pos = random.choice(possible_steps)\n",
        "        self.model.grid.move_agent(self, new_pos)\n",
        "    \n",
        "    def curse(self):\n",
        "        cellmates = self.model.grid.get_cell_list_contents([self.pos])\n",
        "        for cellmate in cellmates:\n",
        "            if isinstance(cellmate, (Prince, Princess)):\n",
        "                if random.random() < self.model.cf:\n",
        "                    cellmate.transform()\n",
        "\n",
        "class Prince:\n",
        "    def __init__(self, pos, model):\n",
        "        self.pos = pos\n",
        "        self.model = model\n",
        "    \n",
        "    def move(self):\n",
        "        possible_steps = self.model.grid.get_neighborhood(self.pos, moore=True, include_center=False)\n",
        "        new_pos = random.choice(possible_steps)\n",
        "        self.model.grid.move_agent(self, new_pos)\n",
        "    \n",
        "    def transform(self):\n",
        "        self.model.grid.remove_agent(self)\n",
        "        frog = Frog(self.pos, self.model)\n",
        "        self.model.grid.place_agent(frog, self.pos)\n",
        "        self.model.schedule.add(frog)\n",
        "    \n",
        "    def kiss(self):\n",
        "        cellmates = self.model.grid.get_cell_list_contents([self.pos])\n",
        "        for cellmate in cellmates:\n",
        "            if isinstance(cellmate, SleepingBeauty):\n",
        "                if random.random() < self.model.kf:\n",
        "                    cellmate.transform()\n",
        "\n",
        "class Princess:\n",
        "    def __init__(self, pos, model):\n",
        "        self.pos = pos\n",
        "        self.model = model\n",
        "    \n",
        "    def move(self):\n",
        "        possible_steps = self.model.grid.get_neighborhood(self.pos, moore=True, include_center=False)\n",
        "        new_pos = random.choice(possible_steps)\n",
        "        self.model.grid.move_agent(self, new_pos)\n",
        "    \n",
        "    def transform(self):\n",
        "        self.model.grid.remove_agent(self)\n",
        "        sleeping_beauty = SleepingBeauty(self.pos, self.model)\n",
        "        self.model.grid.place_agent(sleeping_beauty, self.pos)\n",
        "        self.model.schedule.add(sleeping_beauty)\n",
        "    \n",
        "    def kiss(self):\n",
        "        cellmates = self.model.grid.get_cell_list_contents([self.pos])\n",
        "        for cellmate in cellmates:\n",
        "            if isinstance(cellmate, Frog):\n",
        "                if random.random() < self.model.kf:\n",
        "                    cellmate.transform()\n",
        "\n",
        "class Frog:\n",
        "    def __init__(self, pos, model):\n",
        "        self.pos = pos\n",
        "        self.model = model\n",
        "    \n",
        "    def move(self):\n",
        "        possible_steps = self.model.grid.get_neighborhood(self.pos, moore=True, include_center=False)\n",
        "        new_pos = random.choice(possible_steps)\n",
        "        self.model.grid.move_agent(self, new_pos)\n",
        "    \n",
        "    def transform(self):\n",
        "        self.model.grid.remove_agent(self)\n",
        "        prince = Prince(self.pos, self.model)\n",
        "        self.model.grid.place_agent(prince, self.pos)\n",
        "        self.model.schedule.add(prince)\n",
        "\n",
        "class SleepingBeauty:\n",
        "    def __init__(self, pos, model):\n",
        "        self.pos = pos\n",
        "        self.model = model\n",
        "    \n",
        "    def transform(self):\n",
        "        self.model.grid.remove_agent(self)\n",
        "        princess = Princess(self.pos, self.model)\n",
        "        self.model.grid.place_agent(princess, self.pos)\n",
        "        self.model.schedule.add(princess)\n",
        "\n",
        "class PFPSBModel(Model):\n",
        "    def __init__(self, N, cf, kf, width, height):\n"
      ],
      "metadata": {
        "colab": {
          "base_uri": "https://localhost:8080/",
          "height": 130
        },
        "id": "DMb4X9lYrHtL",
        "outputId": "f857cf7f-4a1d-4814-946a-00510f5f7b89"
      },
      "execution_count": 26,
      "outputs": [
        {
          "output_type": "error",
          "ename": "SyntaxError",
          "evalue": "ignored",
          "traceback": [
            "\u001b[0;36m  File \u001b[0;32m\"<ipython-input-26-eb2376f4e083>\"\u001b[0;36m, line \u001b[0;32m100\u001b[0m\n\u001b[0;31m    def __init__(self, N, cf, kf, width, height):\u001b[0m\n\u001b[0m                                                 ^\u001b[0m\n\u001b[0;31mSyntaxError\u001b[0m\u001b[0;31m:\u001b[0m unexpected EOF while parsing\n"
          ]
        }
      ]
    },
    {
      "cell_type": "code",
      "source": [
        "from mesa import Model, Agent\n",
        "from mesa.space import MultiGrid\n",
        "from mesa.time import RandomActivation\n",
        "import random\n",
        "\n",
        "class Witch(Agent):\n",
        "    def __init__(self, unique_id, model):\n",
        "        super().__init__(unique_id, model)\n",
        "        \n",
        "    def step(self):\n",
        "        possible_moves = self.model.grid.get_neighborhood(self.pos, moore=True, include_center=False)\n",
        "        new_position = self.random.choice(possible_moves)\n",
        "        neighbors = self.model.grid.get_neighbors(self.pos, moore=True, include_center=False)\n",
        "        for neighbor in neighbors:\n",
        "            if isinstance(neighbor, (Prince, Princess)):\n",
        "                if self.model.random.random() < self.model.curse_factor:\n",
        "                    neighbor.turn_into_frog()\n",
        "        \n",
        "class Prince(Agent):\n",
        "    def __init__(self, unique_id, model):\n",
        "        super().__init__(unique_id, model)\n",
        "        self.is_frog = False\n",
        "        \n",
        "    def turn_into_frog(self):\n",
        "        self.is_frog = True\n",
        "        \n",
        "    def turn_into_prince(self):\n",
        "        self.is_frog = False\n",
        "        \n",
        "    def step(self):\n",
        "        if self.is_frog:\n",
        "            possible_moves = self.model.grid.get_neighborhood(self.pos, moore=True, include_center=False)\n",
        "            new_position = self.random.choice(possible_moves)\n",
        "            neighbors = self.model.grid.get_neighbors(self.pos, moore=True, include_center=False)\n",
        "            for neighbor in neighbors:\n",
        "                if isinstance(neighbor, SleepingBeauty):\n",
        "                    if self.model.random.random() < self.model.kissing_factor:\n",
        "                        neighbor.turn_into_princess()\n",
        "                        self.turn_into_prince()\n",
        "        \n",
        "class Princess(Agent):\n",
        "    def __init__(self, unique_id, model):\n",
        "        super().__init__(unique_id, model)\n",
        "        self.is_sleeping = False\n",
        "        \n",
        "    def turn_into_sleeping_beauty(self):\n",
        "        self.is_sleeping = True\n",
        "        \n",
        "    def turn_into_princess(self):\n",
        "        self.is_sleeping = False\n",
        "        \n",
        "    def step(self):\n",
        "        possible_moves = self.model.grid.get_neighborhood(self.pos, moore=True, include_center=False)\n",
        "        new_position = self.random.choice(possible_moves)\n",
        "        neighbors = self.model.grid.get_neighbors(self.pos, moore=True, include_center=False)\n",
        "        for neighbor in neighbors:\n",
        "            if isinstance(neighbor, Frog):\n",
        "                if self.model.random.random() < self.model.kissing_factor:\n",
        "                    neighbor.turn_into_prince()\n",
        "                    self.turn_into_sleeping_beauty()\n",
        "\n",
        "class Frog(Agent):\n",
        "    def __init__(self, unique_id, model):\n",
        "        super().__init__(unique_id, model)\n",
        "        \n",
        "    def turn_into_prince(self):\n",
        "        self.model.schedule.remove(self)\n",
        "        new_prince = Prince(self.unique_id, self.model)\n",
        "        self.model.grid.place_agent(new_prince, self.pos)\n",
        "        self.model.schedule.add(new_prince)\n",
        "        \n",
        "    def step(self):\n",
        "        possible_moves = self.model.grid.get_neighborhood(self.pos, moore=True, include_center=False)\n",
        "        new_position = self.random.choice(possible_moves)\n",
        "        \n",
        "class SleepingBeauty(Agent):\n",
        "    def __init__(self, unique_id, model):\n",
        "        super().__init__(unique_id, model)\n",
        "        \n",
        "    def step(self):\n",
        "        pass\n",
        "\n",
        "class EnchantedKingdomModel(Model):\n",
        "    def __init__(self, height, width, curse_factor, kissing_factor, num_witches, num_princes, num_princesses, num_sleeping_beauties):\n",
        "        super().__init__()\n",
        "        self.height = height\n",
        "        self.width = width\n",
        "        self.curse_factor = curse_factor\n",
        "        self.kissing_factor = kissing_factor\n",
        "        self.grid = MultiGrid(height, width, True)\n",
        "        self.schedule = RandomActivation(self)\n",
        "        \n"
      ],
      "metadata": {
        "id": "gbvD6d2Rsxuk"
      },
      "execution_count": 23,
      "outputs": []
    },
    {
      "cell_type": "code",
      "source": [
        "#@title\n",
        "import random\n",
        "import numpy as np\n",
        "import matplotlib.pyplot as plt\n",
        "from matplotlib.animation import FuncAnimation\n",
        "from mesa import Agent, Model\n",
        "from mesa.time import RandomActivation\n",
        "from mesa.space import SingleGrid\n",
        "\n",
        "class Witch(Agent):\n",
        "    def __init__(self, unique_id, model, cf):\n",
        "        super().__init__(unique_id, model)\n",
        "        self.cf = cf\n",
        "\n",
        "    def step(self):\n",
        "        self.move()\n",
        "        neighbors = self.model.grid.get_neighbors(self.pos, moore=True)\n",
        "        for neighbor in neighbors:\n",
        "            if isinstance(neighbor, (Prince, Princess)):\n",
        "                if random.random() < self.cf:\n",
        "                    neighbor.transform()\n",
        "\n",
        "    def move(self):\n",
        "        possible_steps = self.model.grid.get_neighborhood(self.pos, moore=True, include_center=False)\n",
        "        new_position = self.random.choice(possible_steps)\n",
        "        self.model.grid.move_agent(self, new_position)\n",
        "\n",
        "class Prince(Agent):\n",
        "    def __init__(self, unique_id, model, kf):\n",
        "        super().__init__(unique_id, model)\n",
        "        self.kf = kf\n",
        "\n",
        "    def step(self):\n",
        "        self.move()\n",
        "        neighbors = self.model.grid.get_neighbors(self.pos, moore=True)\n",
        "        for neighbor in neighbors:\n",
        "            if isinstance(neighbor, SleepingBeauty):\n",
        "                if random.random() < self.kf:\n",
        "                    neighbor.transform()\n",
        "\n",
        "    def move(self):\n",
        "        possible_steps = self.model.grid.get_neighborhood(self.pos, moore=True, include_center=False)\n",
        "        new_position = self.random.choice(possible_steps)\n",
        "        self.model.grid.move_agent(self, new_position)\n",
        "\n",
        "    def transform(self):\n",
        "        frog = Frog(self.model.next_id(), self.model, self.kf)\n",
        "        self.model.grid.place_agent(frog, self.pos)\n",
        "        self.model.schedule.add(frog)\n",
        "        self.model.grid.remove_agent(self)\n",
        "        self.model.schedule.remove(self)\n",
        "\n",
        "class Frog(Prince):\n",
        "    def transform(self):\n",
        "        prince = Prince(self.model.next_id(), self.model, self.kf)\n",
        "        self.model.grid.place_agent(prince, self.pos)\n",
        "        self.model.schedule.add(prince)\n",
        "        self.model.grid.remove_agent(self)\n",
        "        self.model.schedule.remove(self)\n",
        "\n",
        "class Princess(Agent):\n",
        "    def __init__(self, unique_id, model, kf):\n",
        "        super().__init__(unique_id, model)\n",
        "        self.kf = kf\n",
        "\n",
        "    def step(self):\n",
        "        self.move()\n",
        "        neighbors = self.model.grid.get_neighbors(self.pos, moore=True)\n",
        "        for neighbor in neighbors:\n",
        "            if isinstance(neighbor, Frog):\n",
        "                if random.random() < self.kf:\n",
        "                    neighbor.transform()\n",
        "\n",
        "    def move(self):\n",
        "        possible_steps = self.model.grid.get_neighborhood(self.pos, moore=True, include_center=False)\n",
        "        new_position = self.random.choice(possible_steps)\n",
        "        self.model.grid.move_agent(self, new_position)\n",
        "\n",
        "    def transform(self):\n",
        "        sleeping_beauty = SleepingBeauty(self.model.next_id(), self.model, self.cf)\n",
        "        self.model.grid.place_agent(sleeping_beauty, self.pos)\n",
        "        self.model.schedule.add(sleeping_beauty)\n",
        "        self.model.grid.remove_agent(self)\n",
        "        self.model.schedule.remove(self)\n",
        "\n",
        "class SleepingBeauty(Princess):\n",
        "    def transform(self):\n",
        "        raise Exception(\"Frogs cannot transform a sleeping beauty into a princess\")\n",
        "\n",
        "class PFPSBModel(Model):\n",
        "    def __init__(self, width, height, cf, kf, num_witches, num_princes, num_princesses):\n",
        "        self.width = width\n",
        "        self.height = height\n",
        "        self.cf = cf\n",
        "        self.kf = kf\n",
        "        self.grid = SingleGrid(width, height, torus=True)\n",
        "        self\n"
      ],
      "metadata": {
        "id": "yOnOgPzwtzdL"
      },
      "execution_count": 25,
      "outputs": []
    },
    {
      "cell_type": "markdown",
      "source": [
        "To get output from the simulation, you can use the run_model() function provided by the Server class. This function will run the simulation for a given number of steps and return the data produced by the simulation.\n",
        "\n",
        "For example, if you want to run the simulation for 100 steps, you can use the following code:"
      ],
      "metadata": {
        "id": "wcVdjIBph4M4"
      }
    },
    {
      "cell_type": "code",
      "source": [
        "from mesa.visualization.modules import CanvasGrid\n",
        "from mesa.visualization.ModularVisualization import ModularServer\n",
        "\n",
        "# create a visualization\n",
        "grid = CanvasGrid(agent_portrayal, 50, 50, 500, 500)\n",
        "\n",
        "# create a server\n",
        "server = ModularServer(PFPSBModel,\n",
        "                       [grid],\n",
        "                       \"PFPSB Model\",\n",
        "                       {\"num_witches\": 10, \"num_princes\": 10, \"num_princesses\": 10})\n",
        "\n",
        "# run the model for 100 steps\n",
        "server.run_model(100)"
      ],
      "metadata": {
        "id": "20V28ylLvCQv"
      },
      "execution_count": null,
      "outputs": []
    },
    {
      "cell_type": "markdown",
      "source": [
        "This will run the model for 100 steps and return the data produced by the simulation. You can then use this data to analyze the behavior of the system and create visualizations of the results."
      ],
      "metadata": {
        "id": "fPh0KyfBh52x"
      }
    }
  ]
}